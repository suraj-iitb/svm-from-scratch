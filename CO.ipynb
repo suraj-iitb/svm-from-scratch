{
 "cells": [
  {
   "cell_type": "code",
   "execution_count": 1,
   "metadata": {},
   "outputs": [],
   "source": [
    "import numpy as np\n",
    "import matplotlib.pyplot as plt\n",
    "from sklearn.datasets import make_blobs\n",
    "from sklearn.preprocessing import StandardScaler\n",
    "import time"
   ]
  },
  {
   "cell_type": "code",
   "execution_count": 2,
   "metadata": {},
   "outputs": [],
   "source": [
    "def linear_kernel(x, y, b=1):\n",
    "    \n",
    "    return x @ y.T + b"
   ]
  },
  {
   "cell_type": "code",
   "execution_count": 3,
   "metadata": {},
   "outputs": [],
   "source": [
    "def gaussian_kernel(x, y, sigma=1):\n",
    "    \n",
    "    if np.ndim(x) == 1 and np.ndim(y) == 1:\n",
    "        result = np.exp(- np.linalg.norm(x - y) / (2 * sigma ** 2))\n",
    "    elif (np.ndim(x) > 1 and np.ndim(y) == 1) or (np.ndim(x) == 1 and np.ndim(y) > 1):\n",
    "        result = np.exp(- np.linalg.norm(x - y, axis=1) / (2 * sigma ** 2))\n",
    "    elif np.ndim(x) > 1 and np.ndim(y) > 1:\n",
    "        result = np.exp(- np.linalg.norm(x[:, np.newaxis] - y[np.newaxis, :], axis=2) / (2 * sigma ** 2))\n",
    "    return result"
   ]
  },
  {
   "cell_type": "code",
   "execution_count": 4,
   "metadata": {},
   "outputs": [],
   "source": [
    "class SMO_SVM:\n",
    "    \n",
    "    def __init__(self, C, kernel, alphas, b, errors):\n",
    "        \n",
    "        self.C = C               \n",
    "        self.kernel = kernel     \n",
    "        self.alphas = alphas     \n",
    "        self.b = b               \n",
    "        self.errors = errors\n",
    "      \n",
    "    \n",
    "    def objective_fun(self):\n",
    "    \n",
    "        return np.sum(self.alphas) - 0.5 * np.sum(self.y_train * self.y_train * self.kernel(self.X_train, self.X_train) * self.alphas * self.alphas)\n",
    "\n",
    "    def decision_fun(self, X_train, y_train):\n",
    "        \n",
    "        result = (self.alphas * y_train) @ self.kernel(X_train, X_train) - self.b\n",
    "        return result\n",
    "    \n",
    "    def predict(self, X_test):\n",
    "\n",
    "        result = (self.alphas * self.y_train) @ self.kernel(self.X_train, X_test) - self.b\n",
    "        return result\n",
    "    \n",
    "    \n",
    "    def plot_decision_boundary(self, _plt, num=50):\n",
    "        \n",
    "        x1_range = np.linspace(self.X_train[:,0].min(), self.X_train[:,0].max(), num)\n",
    "        x2_range = np.linspace(self.X_train[:,1].min(), self.X_train[:,1].max(), num)\n",
    "        grid = [[self.predict(np.array([x1, x2])) for x2 in x2_range] for x1 in x1_range]\n",
    "        grid = np.array(grid).reshape(len(x1_range), len(x2_range))\n",
    "        \n",
    "        _plt.contour(x1_range, x2_range, grid, (-1, 0, 1))\n",
    "        _plt.scatter(self.X_train[:,0], self.X_train[:,1], c=self.y_train)\n",
    "        \n",
    "#         mask = self.alphas != 0.0\n",
    "#         _plt.scatter(self.X_train[:,0][mask], self.X_train[:,1][mask], c=self.y_train[mask], cmap=plt.cm.viridis)\n",
    "        \n",
    "#         return grid, _plt\n",
    "    \n",
    "    def take_step(self, i1, i2):\n",
    "    \n",
    "        # if both lagragnge multipliers are same then return \n",
    "        if i1 == i2:\n",
    "            return 0\n",
    "\n",
    "        alpha1 = self.alphas[i1]\n",
    "        alpha2 = self.alphas[i2]\n",
    "        y1 = self.y_train[i1]\n",
    "        y2 = self.y_train[i2]\n",
    "        E1 = self.errors[i1]\n",
    "        E2 = self.errors[i2]\n",
    "        s = y1 * y2\n",
    "\n",
    "\n",
    "        if (y1 != y2):\n",
    "            L = max(0, alpha2 - alpha1)\n",
    "            H = min(self.C, self.C + alpha2 - alpha1)\n",
    "        else:\n",
    "            L = max(0, alpha1 + alpha2 - self.C)\n",
    "            H = min(self.C, alpha1 + alpha2)\n",
    "          \n",
    "        # if constraint is just a point then return \n",
    "        if (L == H):\n",
    "            return 0\n",
    "\n",
    "        k11 = self.kernel(self.X_train[i1], self.X_train[i1])\n",
    "        k12 = self.kernel(self.X_train[i1], self.X_train[i2])\n",
    "        k22 = self.kernel(self.X_train[i2], self.X_train[i2])\n",
    "        eta = 2 * k12 - k11 - k22\n",
    "\n",
    "        if (eta < 0):\n",
    "            alpha2_new = alpha2 - y2 * (E1 - E2) / eta  #derived analytically\n",
    "            if (alpha2_new <= L):\n",
    "                alpha2_new = L\n",
    "            elif (alpha2_new >= H):\n",
    "                alpha2_new = H\n",
    "        else:\n",
    "            alphas_copy = self.alphas.copy()\n",
    "            alphas_copy[i2] = L\n",
    "            Lobj = self.objective_fun() \n",
    "            alphas_copy[i2] = H\n",
    "            Hobj = self.objective_fun()\n",
    "            if Lobj > (Hobj + eps):\n",
    "                alpha2_new = L\n",
    "            elif Hobj > (Lobj + eps):\n",
    "                alpha2_new = H\n",
    "            else:\n",
    "                alpha2_new = alpha2\n",
    "\n",
    "        # check for end limits\n",
    "        if alpha2_new < 1e-9:\n",
    "            a2 = 0.0\n",
    "        elif alpha2_new > (self.C - 1e-9):\n",
    "            a2 = self.C\n",
    "\n",
    "        if (np.abs(alpha2_new - alpha2) < eps * (alpha2_new + alpha2 + eps)):\n",
    "            return 0\n",
    "\n",
    "        alpha1_new = alpha1 + s * (alpha2 - alpha2_new) #derived anal\n",
    "\n",
    "        # bias update(formula derived and then implemented)\n",
    "        b1 = E1 + y1 * (alpha1_new - alpha1) * k11 + y2 * (alpha2_new - alpha2) * k12 + self.b\n",
    "        b2 = E2 + y1 * (alpha1_new - alpha1) * k12 + y2 * (alpha2_new - alpha2) * k22 + self.b\n",
    "\n",
    "        #choose bias update according to new alphas\n",
    "        if 0 < alpha1_new < C:\n",
    "            b_new = b1\n",
    "        elif 0 < alpha2_new < C:\n",
    "            b_new = b2\n",
    "        else:\n",
    "            b_new = 0.5 * (b1 + b2)\n",
    "\n",
    "        self.alphas[i1] = alpha1_new\n",
    "        self.alphas[i2] = alpha2_new\n",
    "\n",
    "        for index, alpha in zip([i1, i2], [alpha1_new, alpha2_new]):\n",
    "            if 0.0 < alpha < self.C:\n",
    "                self.errors[index] = 0.0\n",
    "        #update errors\n",
    "        non_opt = [n for n in range(self.m) if (n != i1 and n != i2)]\n",
    "        self.errors[non_opt] += y1*(alpha1_new - alpha1)*self.kernel(self.X_train[i1], self.X_train[non_opt]) + \\\n",
    "                                y2*(alpha2_new - alpha2)*self.kernel(self.X_train[i2], self.X_train[non_opt]) + self.b - b_new\n",
    "\n",
    "        self.b = b_new\n",
    "\n",
    "        return 1\n",
    "    \n",
    "    \n",
    "    def examine_example(self, i2):\n",
    "\n",
    "        y2 = self.y_train[i2]\n",
    "        alpha2 = self.alphas[i2]\n",
    "        E2 = self.errors[i2]\n",
    "        r2 = E2 * y2\n",
    "\n",
    "        if ((r2 < -tol and alpha2 < self.C) or (r2 > tol and alpha2 > 0)):\n",
    "            if len(self.alphas[(self.alphas != 0) & (self.alphas != self.C)]) > 1:\n",
    "                # find other lagrangian index such that difference between errors are maximum\n",
    "                if self.errors[i2] > 0:\n",
    "                    i1 = np.argmin(self.errors)\n",
    "                elif self.errors[i2] <= 0:\n",
    "                    i1 = np.argmax(self.errors)\n",
    "                if self.take_step(i1, i2):\n",
    "                    return 1\n",
    "            # if cant find lagrangian in above then iterate through non-bound examples\n",
    "            for i1 in np.roll(np.where((self.alphas != 0) & (self.alphas != self.C))[0],\n",
    "                              np.random.choice(np.arange(self.m))):\n",
    "                if self.take_step(i1, i2):\n",
    "                    return 1\n",
    "            # if cant find lagrangian in above then search whole example\n",
    "            for i1 in np.roll(np.arange(self.m), np.random.choice(np.arange(self.m))):\n",
    "                if self.take_step(i1, i2):\n",
    "                    return 1\n",
    "\n",
    "        return 0\n",
    "    \n",
    "    \n",
    "    def fit(self, X_train , y_train):\n",
    "        self.X_train = X_train\n",
    "        self.y_train = y_train\n",
    "        self.m = len(self.X_train)\n",
    "    \n",
    "        \n",
    "        findAll = 1\n",
    "        count = 0\n",
    "        # Converges if in the current search no multiplier were found\n",
    "        while(count > 0) or (findAll):\n",
    "            count = 0\n",
    "            if findAll:\n",
    "                for i in range(self.alphas.shape[0]):\n",
    "                    count += self.examine_example(i)        \n",
    "            else:\n",
    "                for i in np.where((self.alphas != 0) & (self.alphas != self.C))[0]:\n",
    "                    count +=  self.examine_example(i)\n",
    "                    \n",
    "            # examine all exmaples alternately (itr1: All, itr2:Not All etc)\n",
    "            if findAll == 1:\n",
    "                findAll = 0\n",
    "            elif count == 0: # we need to examine all examples if no change is found in current iteration\n",
    "                findAll = 1\n"
   ]
  },
  {
   "cell_type": "code",
   "execution_count": 5,
   "metadata": {},
   "outputs": [
    {
     "data": {
      "text/plain": [
       "((2700, 2), (300, 2), (2700,), (300,))"
      ]
     },
     "execution_count": 5,
     "metadata": {},
     "output_type": "execute_result"
    }
   ],
   "source": [
    "# Linearly seperable Data\n",
    "n_samples = 3000\n",
    "X, y = make_blobs(n_samples=n_samples, centers=2, n_features=2, random_state=1)\n",
    "scaler = StandardScaler()\n",
    "X = scaler.fit_transform(X, y)\n",
    "y[y == 0] = -1\n",
    "\n",
    "X_train = X[0:int(0.9*n_samples),:]\n",
    "y_train = y[0:int(0.9*n_samples)]\n",
    "\n",
    "X_test = X[int(0.9*n_samples):,:]\n",
    "y_test = y[int(0.9*n_samples):]\n",
    "X_train.shape,X_test.shape, y_train.shape, y_test.shape"
   ]
  },
  {
   "cell_type": "code",
   "execution_count": 6,
   "metadata": {},
   "outputs": [],
   "source": [
    "# Hyperparameters\n",
    "C = 1\n",
    "m = len(X_train)\n",
    "initial_alphas = np.zeros(m)\n",
    "initial_b = 0.0\n",
    "\n",
    "tol = 0.01 \n",
    "eps = 0.01 "
   ]
  },
  {
   "cell_type": "code",
   "execution_count": 7,
   "metadata": {},
   "outputs": [],
   "source": [
    "# Buiding Model\n",
    "model = SMO_SVM(C, linear_kernel, initial_alphas, initial_b, np.zeros(m))\n",
    "initial_error = model.decision_fun(X_train, y_train) - y_train\n",
    "model.errors = initial_error\n",
    "np.random.seed(0)"
   ]
  },
  {
   "cell_type": "code",
   "execution_count": 8,
   "metadata": {},
   "outputs": [
    {
     "name": "stdout",
     "output_type": "stream",
     "text": [
      "0.13043199999999988\n"
     ]
    }
   ],
   "source": [
    "# Train the model\n",
    "start = time.clock()\n",
    "model.fit(X_train, y_train)\n",
    "print(time.clock() - start)"
   ]
  },
  {
   "cell_type": "code",
   "execution_count": 9,
   "metadata": {},
   "outputs": [
    {
     "data": {
      "image/png": "[encoded data removed]",
      "text/plain": [
       "<Figure size 432x288 with 1 Axes>"
      ]
     },
     "metadata": {
      "needs_background": "light"
     },
     "output_type": "display_data"
    }
   ],
   "source": [
    "# plotting the model\n",
    "fig, _plt = plt.subplots()\n",
    "model.plot_decision_boundary(_plt)"
   ]
  },
  {
   "cell_type": "code",
   "execution_count": 10,
   "metadata": {},
   "outputs": [
    {
     "name": "stdout",
     "output_type": "stream",
     "text": [
      "300 out of 300 predictions correct\n"
     ]
    }
   ],
   "source": [
    "# Test the model\n",
    "y_predict = model.predict(X_test)\n",
    "correct = np.sum(np.sign(y_predict) == y_test)\n",
    "print(\"%d out of %d predictions correct\" % (correct, len(y_predict)))"
   ]
  },
  {
   "cell_type": "code",
   "execution_count": null,
   "metadata": {},
   "outputs": [],
   "source": []
  }
 ],
 "metadata": {
  "kernelspec": {
   "display_name": "Python 3",
   "language": "python",
   "name": "python3"
  },
  "language_info": {
   "codemirror_mode": {
    "name": "ipython",
    "version": 3
   },
   "file_extension": ".py",
   "mimetype": "text/x-python",
   "name": "python",
   "nbconvert_exporter": "python",
   "pygments_lexer": "ipython3",
   "version": "3.6.6"
  }
 },
 "nbformat": 4,
 "nbformat_minor": 2
}
